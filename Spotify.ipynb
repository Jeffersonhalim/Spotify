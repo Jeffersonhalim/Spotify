{
 "cells": [
  {
   "cell_type": "markdown",
   "id": "8176abf2",
   "metadata": {},
   "source": [
    "# Spotify Streaming Exploratory Project\n",
    "## by Christian Jefferson Halim"
   ]
  },
  {
   "cell_type": "markdown",
   "id": "3a3862d1",
   "metadata": {},
   "source": [
    "In this project, we're going to explore my **Spotify** data and usage. Spotify is a digital music, podcast, and videos streaming platform. All the dataset used in this project are from my own personal Spotify account.\n",
    "\n",
    "The dataset contains, such as:\n",
    "- The name of the songs that I played\n",
    "- The name of the artists for the songs\n",
    "- The usage of that songs in my account\n",
    "\n",
    "The dataset of our spotify can be requested from **Privacy & Settings** section and it will take approximately 1 week to receive the dataset. "
   ]
  },
  {
   "cell_type": "markdown",
   "id": "31e4f11b",
   "metadata": {},
   "source": [
    "## 0. Import Packages"
   ]
  },
  {
   "cell_type": "code",
   "execution_count": 84,
   "id": "752b2ba6",
   "metadata": {},
   "outputs": [],
   "source": [
    "%matplotlib inline\n",
    "import pandas as pd # Import for Pandas\n",
    "import numpy as np # Import for Numpy\n",
    "import matplotlib # Import for Matplotlib\n",
    "import matplotlib.pyplot as plt # Import for Matplotlib Pyplot\n",
    "import seaborn as sns # Import for Seaborn"
   ]
  },
  {
   "cell_type": "markdown",
   "id": "ec5c68db",
   "metadata": {},
   "source": [
    "## 1. Read the downloaded file"
   ]
  },
  {
   "cell_type": "code",
   "execution_count": 85,
   "id": "1f8173b1",
   "metadata": {
    "scrolled": true
   },
   "outputs": [
    {
     "data": {
      "text/html": [
       "<div>\n",
       "<style scoped>\n",
       "    .dataframe tbody tr th:only-of-type {\n",
       "        vertical-align: middle;\n",
       "    }\n",
       "\n",
       "    .dataframe tbody tr th {\n",
       "        vertical-align: top;\n",
       "    }\n",
       "\n",
       "    .dataframe thead th {\n",
       "        text-align: right;\n",
       "    }\n",
       "</style>\n",
       "<table border=\"1\" class=\"dataframe\">\n",
       "  <thead>\n",
       "    <tr style=\"text-align: right;\">\n",
       "      <th></th>\n",
       "      <th>endTime</th>\n",
       "      <th>artistName</th>\n",
       "      <th>trackName</th>\n",
       "      <th>msPlayed</th>\n",
       "    </tr>\n",
       "  </thead>\n",
       "  <tbody>\n",
       "    <tr>\n",
       "      <th>0</th>\n",
       "      <td>2020-08-23 00:05</td>\n",
       "      <td>James TW</td>\n",
       "      <td>When You Love Someone</td>\n",
       "      <td>216560</td>\n",
       "    </tr>\n",
       "    <tr>\n",
       "      <th>1</th>\n",
       "      <td>2020-08-23 00:08</td>\n",
       "      <td>Maisie Peters</td>\n",
       "      <td>Place We Were Made</td>\n",
       "      <td>140724</td>\n",
       "    </tr>\n",
       "    <tr>\n",
       "      <th>2</th>\n",
       "      <td>2020-08-23 00:11</td>\n",
       "      <td>JP Cooper</td>\n",
       "      <td>September Song - Guitar Acoustic</td>\n",
       "      <td>211022</td>\n",
       "    </tr>\n",
       "    <tr>\n",
       "      <th>3</th>\n",
       "      <td>2020-08-23 02:26</td>\n",
       "      <td>Ty Dolla $ign</td>\n",
       "      <td>Or Nah (feat. The Weeknd, Wiz Khalifa &amp; DJ Mus...</td>\n",
       "      <td>79393</td>\n",
       "    </tr>\n",
       "    <tr>\n",
       "      <th>4</th>\n",
       "      <td>2020-08-23 02:28</td>\n",
       "      <td>24kGoldn</td>\n",
       "      <td>Mood (feat. iann dior)</td>\n",
       "      <td>1898</td>\n",
       "    </tr>\n",
       "  </tbody>\n",
       "</table>\n",
       "</div>"
      ],
      "text/plain": [
       "            endTime     artistName  \\\n",
       "0  2020-08-23 00:05       James TW   \n",
       "1  2020-08-23 00:08  Maisie Peters   \n",
       "2  2020-08-23 00:11      JP Cooper   \n",
       "3  2020-08-23 02:26  Ty Dolla $ign   \n",
       "4  2020-08-23 02:28       24kGoldn   \n",
       "\n",
       "                                           trackName  msPlayed  \n",
       "0                              When You Love Someone    216560  \n",
       "1                                 Place We Were Made    140724  \n",
       "2                   September Song - Guitar Acoustic    211022  \n",
       "3  Or Nah (feat. The Weeknd, Wiz Khalifa & DJ Mus...     79393  \n",
       "4                             Mood (feat. iann dior)      1898  "
      ]
     },
     "execution_count": 85,
     "metadata": {},
     "output_type": "execute_result"
    }
   ],
   "source": [
    "# Load the JSON File \n",
    "df = pd.read_json(\"StreamingHistory.json\") \n",
    "df.head()"
   ]
  },
  {
   "cell_type": "markdown",
   "id": "d7c64b8b",
   "metadata": {},
   "source": [
    "As we can see above, the downloaded file includes 4 columns, which are `endTime`, `artistName`, `trackName`, and `msPlayed`. These 4 columns are the default columns from the dataset."
   ]
  },
  {
   "cell_type": "markdown",
   "id": "28c2fcd8",
   "metadata": {},
   "source": [
    "## 2. Data Preparation and Cleaning"
   ]
  },
  {
   "cell_type": "markdown",
   "id": "156fae19",
   "metadata": {},
   "source": [
    "### 2.0 Data Check\n",
    "\n",
    "Here we will check the length and types of our data. We will also check if there are any null values in the data using the `isna` function."
   ]
  },
  {
   "cell_type": "code",
   "execution_count": 86,
   "id": "fc45807d",
   "metadata": {},
   "outputs": [
    {
     "data": {
      "text/plain": [
       "9468"
      ]
     },
     "execution_count": 86,
     "metadata": {},
     "output_type": "execute_result"
    }
   ],
   "source": [
    "# Check the amount of rows in the data\n",
    "len(df)"
   ]
  },
  {
   "cell_type": "code",
   "execution_count": 87,
   "id": "654c84b9",
   "metadata": {},
   "outputs": [
    {
     "data": {
      "text/plain": [
       "endTime       object\n",
       "artistName    object\n",
       "trackName     object\n",
       "msPlayed       int64\n",
       "dtype: object"
      ]
     },
     "execution_count": 87,
     "metadata": {},
     "output_type": "execute_result"
    }
   ],
   "source": [
    "# Check data types\n",
    "df.dtypes"
   ]
  },
  {
   "cell_type": "code",
   "execution_count": 88,
   "id": "63cf2463",
   "metadata": {},
   "outputs": [
    {
     "data": {
      "text/html": [
       "<div>\n",
       "<style scoped>\n",
       "    .dataframe tbody tr th:only-of-type {\n",
       "        vertical-align: middle;\n",
       "    }\n",
       "\n",
       "    .dataframe tbody tr th {\n",
       "        vertical-align: top;\n",
       "    }\n",
       "\n",
       "    .dataframe thead th {\n",
       "        text-align: right;\n",
       "    }\n",
       "</style>\n",
       "<table border=\"1\" class=\"dataframe\">\n",
       "  <thead>\n",
       "    <tr style=\"text-align: right;\">\n",
       "      <th></th>\n",
       "      <th>endTime</th>\n",
       "      <th>artistName</th>\n",
       "      <th>trackName</th>\n",
       "      <th>msPlayed</th>\n",
       "    </tr>\n",
       "  </thead>\n",
       "  <tbody>\n",
       "    <tr>\n",
       "      <th>0</th>\n",
       "      <td>False</td>\n",
       "      <td>False</td>\n",
       "      <td>False</td>\n",
       "      <td>False</td>\n",
       "    </tr>\n",
       "    <tr>\n",
       "      <th>1</th>\n",
       "      <td>False</td>\n",
       "      <td>False</td>\n",
       "      <td>False</td>\n",
       "      <td>False</td>\n",
       "    </tr>\n",
       "    <tr>\n",
       "      <th>2</th>\n",
       "      <td>False</td>\n",
       "      <td>False</td>\n",
       "      <td>False</td>\n",
       "      <td>False</td>\n",
       "    </tr>\n",
       "    <tr>\n",
       "      <th>3</th>\n",
       "      <td>False</td>\n",
       "      <td>False</td>\n",
       "      <td>False</td>\n",
       "      <td>False</td>\n",
       "    </tr>\n",
       "    <tr>\n",
       "      <th>4</th>\n",
       "      <td>False</td>\n",
       "      <td>False</td>\n",
       "      <td>False</td>\n",
       "      <td>False</td>\n",
       "    </tr>\n",
       "    <tr>\n",
       "      <th>...</th>\n",
       "      <td>...</td>\n",
       "      <td>...</td>\n",
       "      <td>...</td>\n",
       "      <td>...</td>\n",
       "    </tr>\n",
       "    <tr>\n",
       "      <th>9463</th>\n",
       "      <td>False</td>\n",
       "      <td>False</td>\n",
       "      <td>False</td>\n",
       "      <td>False</td>\n",
       "    </tr>\n",
       "    <tr>\n",
       "      <th>9464</th>\n",
       "      <td>False</td>\n",
       "      <td>False</td>\n",
       "      <td>False</td>\n",
       "      <td>False</td>\n",
       "    </tr>\n",
       "    <tr>\n",
       "      <th>9465</th>\n",
       "      <td>False</td>\n",
       "      <td>False</td>\n",
       "      <td>False</td>\n",
       "      <td>False</td>\n",
       "    </tr>\n",
       "    <tr>\n",
       "      <th>9466</th>\n",
       "      <td>False</td>\n",
       "      <td>False</td>\n",
       "      <td>False</td>\n",
       "      <td>False</td>\n",
       "    </tr>\n",
       "    <tr>\n",
       "      <th>9467</th>\n",
       "      <td>False</td>\n",
       "      <td>False</td>\n",
       "      <td>False</td>\n",
       "      <td>False</td>\n",
       "    </tr>\n",
       "  </tbody>\n",
       "</table>\n",
       "<p>9468 rows × 4 columns</p>\n",
       "</div>"
      ],
      "text/plain": [
       "      endTime  artistName  trackName  msPlayed\n",
       "0       False       False      False     False\n",
       "1       False       False      False     False\n",
       "2       False       False      False     False\n",
       "3       False       False      False     False\n",
       "4       False       False      False     False\n",
       "...       ...         ...        ...       ...\n",
       "9463    False       False      False     False\n",
       "9464    False       False      False     False\n",
       "9465    False       False      False     False\n",
       "9466    False       False      False     False\n",
       "9467    False       False      False     False\n",
       "\n",
       "[9468 rows x 4 columns]"
      ]
     },
     "execution_count": 88,
     "metadata": {},
     "output_type": "execute_result"
    }
   ],
   "source": [
    "df.isna()"
   ]
  },
  {
   "cell_type": "markdown",
   "id": "622e18ce",
   "metadata": {},
   "source": [
    "### 2.1 Data Formatting"
   ]
  },
  {
   "cell_type": "markdown",
   "id": "e1bb2767",
   "metadata": {},
   "source": [
    "In this data formatting section, we're gonna use `pd.to_datetime` method from Pandas module to convert object column into a proper date column. We're also gonna use `pd_DatetimeIndex` method from Pandas module to obtain others column from `datetime`, such as `Year, Month, Day, Weekday, time, Hours, and Day-name`.\n",
    "\n",
    "For additional information regarding `pd.to_datetime` and `pd_DatetimeIndex`:\n",
    "- https://pandas.pydata.org/docs/reference/api/pandas.to_datetime.html\n",
    "- https://pandas.pydata.org/docs/reference/api/pandas.DatetimeIndex.html"
   ]
  },
  {
   "cell_type": "code",
   "execution_count": 89,
   "id": "5e1c7bd5",
   "metadata": {},
   "outputs": [],
   "source": [
    "#Make a new column for Play-Time\n",
    "df[\"Play-Time\"]= pd.to_datetime(df[\"endTime\"])"
   ]
  },
  {
   "cell_type": "markdown",
   "id": "418c3868",
   "metadata": {},
   "source": [
    "First, we create a new column called `Play-Time` using `pd.to_datetime` pandas module to obtain the proper date-time format."
   ]
  },
  {
   "cell_type": "code",
   "execution_count": 90,
   "id": "5d3d4194",
   "metadata": {},
   "outputs": [],
   "source": [
    "# We are gonna use DatetimeIndex to make new columns\n",
    "df['Year'] = pd.DatetimeIndex(df[\"Play-Time\"]).year\n",
    "df['Month'] = pd.DatetimeIndex(df[\"Play-Time\"]).month\n",
    "df['Day'] = pd.DatetimeIndex(df[\"Play-Time\"]).day\n",
    "df['Weekday'] = pd.DatetimeIndex(df[\"Play-Time\"]).weekday\n",
    "df['time'] = pd.DatetimeIndex(df[\"Play-Time\"]).time\n",
    "df['Hours'] = pd.DatetimeIndex(df[\"Play-Time\"]).hour\n",
    "df['Day-name'] = df[\"Play-Time\"].apply(lambda x: x.day_name())\n",
    "df['Count'] = 1 "
   ]
  },
  {
   "cell_type": "markdown",
   "id": "b3b376c0",
   "metadata": {},
   "source": [
    "Then, using `pd_DatetimeIndex`, we create multiples new columns to obtain different timeframe. Information in the columns, including:\n",
    "- `Year`: contains the year when the song was played\n",
    "- `Month`: contains the month when the song was played\n",
    "- `Day`: contains the day when the song was played\n",
    "- `Weekday`: contains a number between 0-6 when the song was played (0 = Monday, 1 = Tuesday, etc)\n",
    "- `time` = contains the time when the song was played\n",
    "- `Hours` = contains the number of hours when the song was played\n",
    "- `Day-name` = contains the name of the day when the song wa played"
   ]
  },
  {
   "cell_type": "code",
   "execution_count": 91,
   "id": "f5d935b0",
   "metadata": {},
   "outputs": [],
   "source": [
    "#Convert ms into hh-mm-ss format\n",
    "df[\"Total Time\"] = pd.to_timedelta(df[\"msPlayed\"], unit='ms')\n",
    "\n",
    "#Make a new column for listening time in minute unit\n",
    "def minutes(td):\n",
    "    return (td.seconds/60)%60\n",
    "\n",
    "df[\"Listening Time in min\"] = df[\"Total Time\"].apply(minutes).round(2)"
   ]
  },
  {
   "cell_type": "markdown",
   "id": "42a07e66",
   "metadata": {},
   "source": [
    "Here, we added two new columns, which are `Total Time` and `Listening Time in min` to obtain a more specific total time and minutes when the song was played. Information in both columns, including:\n",
    "\n",
    "- `Total Time`: contains the total amount of time when the song was played\n",
    "- `Listening Time in min`: contains the total amouunt of time in minutes when the song was played"
   ]
  },
  {
   "cell_type": "code",
   "execution_count": 92,
   "id": "bc3f9298",
   "metadata": {},
   "outputs": [
    {
     "data": {
      "text/html": [
       "<div>\n",
       "<style scoped>\n",
       "    .dataframe tbody tr th:only-of-type {\n",
       "        vertical-align: middle;\n",
       "    }\n",
       "\n",
       "    .dataframe tbody tr th {\n",
       "        vertical-align: top;\n",
       "    }\n",
       "\n",
       "    .dataframe thead th {\n",
       "        text-align: right;\n",
       "    }\n",
       "</style>\n",
       "<table border=\"1\" class=\"dataframe\">\n",
       "  <thead>\n",
       "    <tr style=\"text-align: right;\">\n",
       "      <th></th>\n",
       "      <th>endTime</th>\n",
       "      <th>artistName</th>\n",
       "      <th>trackName</th>\n",
       "      <th>msPlayed</th>\n",
       "      <th>Play-Time</th>\n",
       "      <th>Year</th>\n",
       "      <th>Month</th>\n",
       "      <th>Day</th>\n",
       "      <th>Weekday</th>\n",
       "      <th>time</th>\n",
       "      <th>Hours</th>\n",
       "      <th>Day-name</th>\n",
       "      <th>Count</th>\n",
       "      <th>Total Time</th>\n",
       "      <th>Listening Time in min</th>\n",
       "    </tr>\n",
       "  </thead>\n",
       "  <tbody>\n",
       "    <tr>\n",
       "      <th>0</th>\n",
       "      <td>2020-08-23 00:05</td>\n",
       "      <td>James TW</td>\n",
       "      <td>When You Love Someone</td>\n",
       "      <td>216560</td>\n",
       "      <td>2020-08-23 00:05:00</td>\n",
       "      <td>2020</td>\n",
       "      <td>8</td>\n",
       "      <td>23</td>\n",
       "      <td>6</td>\n",
       "      <td>00:05:00</td>\n",
       "      <td>0</td>\n",
       "      <td>Sunday</td>\n",
       "      <td>1</td>\n",
       "      <td>0 days 00:03:36.560000</td>\n",
       "      <td>3.60</td>\n",
       "    </tr>\n",
       "    <tr>\n",
       "      <th>1</th>\n",
       "      <td>2020-08-23 00:08</td>\n",
       "      <td>Maisie Peters</td>\n",
       "      <td>Place We Were Made</td>\n",
       "      <td>140724</td>\n",
       "      <td>2020-08-23 00:08:00</td>\n",
       "      <td>2020</td>\n",
       "      <td>8</td>\n",
       "      <td>23</td>\n",
       "      <td>6</td>\n",
       "      <td>00:08:00</td>\n",
       "      <td>0</td>\n",
       "      <td>Sunday</td>\n",
       "      <td>1</td>\n",
       "      <td>0 days 00:02:20.724000</td>\n",
       "      <td>2.33</td>\n",
       "    </tr>\n",
       "    <tr>\n",
       "      <th>2</th>\n",
       "      <td>2020-08-23 00:11</td>\n",
       "      <td>JP Cooper</td>\n",
       "      <td>September Song - Guitar Acoustic</td>\n",
       "      <td>211022</td>\n",
       "      <td>2020-08-23 00:11:00</td>\n",
       "      <td>2020</td>\n",
       "      <td>8</td>\n",
       "      <td>23</td>\n",
       "      <td>6</td>\n",
       "      <td>00:11:00</td>\n",
       "      <td>0</td>\n",
       "      <td>Sunday</td>\n",
       "      <td>1</td>\n",
       "      <td>0 days 00:03:31.022000</td>\n",
       "      <td>3.52</td>\n",
       "    </tr>\n",
       "    <tr>\n",
       "      <th>3</th>\n",
       "      <td>2020-08-23 02:26</td>\n",
       "      <td>Ty Dolla $ign</td>\n",
       "      <td>Or Nah (feat. The Weeknd, Wiz Khalifa &amp; DJ Mus...</td>\n",
       "      <td>79393</td>\n",
       "      <td>2020-08-23 02:26:00</td>\n",
       "      <td>2020</td>\n",
       "      <td>8</td>\n",
       "      <td>23</td>\n",
       "      <td>6</td>\n",
       "      <td>02:26:00</td>\n",
       "      <td>2</td>\n",
       "      <td>Sunday</td>\n",
       "      <td>1</td>\n",
       "      <td>0 days 00:01:19.393000</td>\n",
       "      <td>1.32</td>\n",
       "    </tr>\n",
       "    <tr>\n",
       "      <th>4</th>\n",
       "      <td>2020-08-23 02:28</td>\n",
       "      <td>24kGoldn</td>\n",
       "      <td>Mood (feat. iann dior)</td>\n",
       "      <td>1898</td>\n",
       "      <td>2020-08-23 02:28:00</td>\n",
       "      <td>2020</td>\n",
       "      <td>8</td>\n",
       "      <td>23</td>\n",
       "      <td>6</td>\n",
       "      <td>02:28:00</td>\n",
       "      <td>2</td>\n",
       "      <td>Sunday</td>\n",
       "      <td>1</td>\n",
       "      <td>0 days 00:00:01.898000</td>\n",
       "      <td>0.02</td>\n",
       "    </tr>\n",
       "    <tr>\n",
       "      <th>5</th>\n",
       "      <td>2020-08-23 02:28</td>\n",
       "      <td>BTS</td>\n",
       "      <td>Dynamite</td>\n",
       "      <td>682</td>\n",
       "      <td>2020-08-23 02:28:00</td>\n",
       "      <td>2020</td>\n",
       "      <td>8</td>\n",
       "      <td>23</td>\n",
       "      <td>6</td>\n",
       "      <td>02:28:00</td>\n",
       "      <td>2</td>\n",
       "      <td>Sunday</td>\n",
       "      <td>1</td>\n",
       "      <td>0 days 00:00:00.682000</td>\n",
       "      <td>0.00</td>\n",
       "    </tr>\n",
       "    <tr>\n",
       "      <th>6</th>\n",
       "      <td>2020-08-23 02:28</td>\n",
       "      <td>Miley Cyrus</td>\n",
       "      <td>Midnight Sky</td>\n",
       "      <td>853</td>\n",
       "      <td>2020-08-23 02:28:00</td>\n",
       "      <td>2020</td>\n",
       "      <td>8</td>\n",
       "      <td>23</td>\n",
       "      <td>6</td>\n",
       "      <td>02:28:00</td>\n",
       "      <td>2</td>\n",
       "      <td>Sunday</td>\n",
       "      <td>1</td>\n",
       "      <td>0 days 00:00:00.853000</td>\n",
       "      <td>0.00</td>\n",
       "    </tr>\n",
       "    <tr>\n",
       "      <th>7</th>\n",
       "      <td>2020-08-23 02:28</td>\n",
       "      <td>blackbear</td>\n",
       "      <td>if i were u (with Lauv)</td>\n",
       "      <td>67584</td>\n",
       "      <td>2020-08-23 02:28:00</td>\n",
       "      <td>2020</td>\n",
       "      <td>8</td>\n",
       "      <td>23</td>\n",
       "      <td>6</td>\n",
       "      <td>02:28:00</td>\n",
       "      <td>2</td>\n",
       "      <td>Sunday</td>\n",
       "      <td>1</td>\n",
       "      <td>0 days 00:01:07.584000</td>\n",
       "      <td>1.12</td>\n",
       "    </tr>\n",
       "    <tr>\n",
       "      <th>8</th>\n",
       "      <td>2020-08-23 02:28</td>\n",
       "      <td>Katy Perry</td>\n",
       "      <td>What Makes A Woman</td>\n",
       "      <td>3285</td>\n",
       "      <td>2020-08-23 02:28:00</td>\n",
       "      <td>2020</td>\n",
       "      <td>8</td>\n",
       "      <td>23</td>\n",
       "      <td>6</td>\n",
       "      <td>02:28:00</td>\n",
       "      <td>2</td>\n",
       "      <td>Sunday</td>\n",
       "      <td>1</td>\n",
       "      <td>0 days 00:00:03.285000</td>\n",
       "      <td>0.05</td>\n",
       "    </tr>\n",
       "    <tr>\n",
       "      <th>9</th>\n",
       "      <td>2020-08-23 02:32</td>\n",
       "      <td>Drake</td>\n",
       "      <td>Toosie Slide</td>\n",
       "      <td>247058</td>\n",
       "      <td>2020-08-23 02:32:00</td>\n",
       "      <td>2020</td>\n",
       "      <td>8</td>\n",
       "      <td>23</td>\n",
       "      <td>6</td>\n",
       "      <td>02:32:00</td>\n",
       "      <td>2</td>\n",
       "      <td>Sunday</td>\n",
       "      <td>1</td>\n",
       "      <td>0 days 00:04:07.058000</td>\n",
       "      <td>4.12</td>\n",
       "    </tr>\n",
       "  </tbody>\n",
       "</table>\n",
       "</div>"
      ],
      "text/plain": [
       "            endTime     artistName  \\\n",
       "0  2020-08-23 00:05       James TW   \n",
       "1  2020-08-23 00:08  Maisie Peters   \n",
       "2  2020-08-23 00:11      JP Cooper   \n",
       "3  2020-08-23 02:26  Ty Dolla $ign   \n",
       "4  2020-08-23 02:28       24kGoldn   \n",
       "5  2020-08-23 02:28            BTS   \n",
       "6  2020-08-23 02:28    Miley Cyrus   \n",
       "7  2020-08-23 02:28      blackbear   \n",
       "8  2020-08-23 02:28     Katy Perry   \n",
       "9  2020-08-23 02:32          Drake   \n",
       "\n",
       "                                           trackName  msPlayed  \\\n",
       "0                              When You Love Someone    216560   \n",
       "1                                 Place We Were Made    140724   \n",
       "2                   September Song - Guitar Acoustic    211022   \n",
       "3  Or Nah (feat. The Weeknd, Wiz Khalifa & DJ Mus...     79393   \n",
       "4                             Mood (feat. iann dior)      1898   \n",
       "5                                           Dynamite       682   \n",
       "6                                       Midnight Sky       853   \n",
       "7                            if i were u (with Lauv)     67584   \n",
       "8                                 What Makes A Woman      3285   \n",
       "9                                       Toosie Slide    247058   \n",
       "\n",
       "            Play-Time  Year  Month  Day  Weekday      time  Hours Day-name  \\\n",
       "0 2020-08-23 00:05:00  2020      8   23        6  00:05:00      0   Sunday   \n",
       "1 2020-08-23 00:08:00  2020      8   23        6  00:08:00      0   Sunday   \n",
       "2 2020-08-23 00:11:00  2020      8   23        6  00:11:00      0   Sunday   \n",
       "3 2020-08-23 02:26:00  2020      8   23        6  02:26:00      2   Sunday   \n",
       "4 2020-08-23 02:28:00  2020      8   23        6  02:28:00      2   Sunday   \n",
       "5 2020-08-23 02:28:00  2020      8   23        6  02:28:00      2   Sunday   \n",
       "6 2020-08-23 02:28:00  2020      8   23        6  02:28:00      2   Sunday   \n",
       "7 2020-08-23 02:28:00  2020      8   23        6  02:28:00      2   Sunday   \n",
       "8 2020-08-23 02:28:00  2020      8   23        6  02:28:00      2   Sunday   \n",
       "9 2020-08-23 02:32:00  2020      8   23        6  02:32:00      2   Sunday   \n",
       "\n",
       "   Count             Total Time  Listening Time in min  \n",
       "0      1 0 days 00:03:36.560000                   3.60  \n",
       "1      1 0 days 00:02:20.724000                   2.33  \n",
       "2      1 0 days 00:03:31.022000                   3.52  \n",
       "3      1 0 days 00:01:19.393000                   1.32  \n",
       "4      1 0 days 00:00:01.898000                   0.02  \n",
       "5      1 0 days 00:00:00.682000                   0.00  \n",
       "6      1 0 days 00:00:00.853000                   0.00  \n",
       "7      1 0 days 00:01:07.584000                   1.12  \n",
       "8      1 0 days 00:00:03.285000                   0.05  \n",
       "9      1 0 days 00:04:07.058000                   4.12  "
      ]
     },
     "execution_count": 92,
     "metadata": {},
     "output_type": "execute_result"
    }
   ],
   "source": [
    "# Check the newly updated dataframe table\n",
    "df.head(10)"
   ]
  },
  {
   "cell_type": "code",
   "execution_count": 93,
   "id": "7366f66c",
   "metadata": {},
   "outputs": [],
   "source": [
    "#Now, we are gonna drop the endtime, msplayed, and total time column since we will not them again\n",
    "df.drop(columns=[\"endTime\",\"msPlayed\",\"Total Time\"], inplace=True)"
   ]
  },
  {
   "cell_type": "markdown",
   "id": "c4fbc713",
   "metadata": {},
   "source": [
    "Here, we're dropping three columns, which are `endTime`, `msPlayed`, and `Total Time` because we will not need these columns in the future."
   ]
  },
  {
   "cell_type": "code",
   "execution_count": 94,
   "id": "3cf33e8a",
   "metadata": {
    "scrolled": true
   },
   "outputs": [
    {
     "data": {
      "text/html": [
       "<div>\n",
       "<style scoped>\n",
       "    .dataframe tbody tr th:only-of-type {\n",
       "        vertical-align: middle;\n",
       "    }\n",
       "\n",
       "    .dataframe tbody tr th {\n",
       "        vertical-align: top;\n",
       "    }\n",
       "\n",
       "    .dataframe thead th {\n",
       "        text-align: right;\n",
       "    }\n",
       "</style>\n",
       "<table border=\"1\" class=\"dataframe\">\n",
       "  <thead>\n",
       "    <tr style=\"text-align: right;\">\n",
       "      <th></th>\n",
       "      <th>artistName</th>\n",
       "      <th>trackName</th>\n",
       "      <th>Play-Time</th>\n",
       "      <th>Year</th>\n",
       "      <th>Month</th>\n",
       "      <th>Day</th>\n",
       "      <th>Weekday</th>\n",
       "      <th>time</th>\n",
       "      <th>Hours</th>\n",
       "      <th>Day-name</th>\n",
       "      <th>Count</th>\n",
       "      <th>Listening Time in min</th>\n",
       "    </tr>\n",
       "  </thead>\n",
       "  <tbody>\n",
       "    <tr>\n",
       "      <th>0</th>\n",
       "      <td>James TW</td>\n",
       "      <td>When You Love Someone</td>\n",
       "      <td>2020-08-23 00:05:00</td>\n",
       "      <td>2020</td>\n",
       "      <td>8</td>\n",
       "      <td>23</td>\n",
       "      <td>6</td>\n",
       "      <td>00:05:00</td>\n",
       "      <td>0</td>\n",
       "      <td>Sunday</td>\n",
       "      <td>1</td>\n",
       "      <td>3.60</td>\n",
       "    </tr>\n",
       "    <tr>\n",
       "      <th>1</th>\n",
       "      <td>Maisie Peters</td>\n",
       "      <td>Place We Were Made</td>\n",
       "      <td>2020-08-23 00:08:00</td>\n",
       "      <td>2020</td>\n",
       "      <td>8</td>\n",
       "      <td>23</td>\n",
       "      <td>6</td>\n",
       "      <td>00:08:00</td>\n",
       "      <td>0</td>\n",
       "      <td>Sunday</td>\n",
       "      <td>1</td>\n",
       "      <td>2.33</td>\n",
       "    </tr>\n",
       "    <tr>\n",
       "      <th>2</th>\n",
       "      <td>JP Cooper</td>\n",
       "      <td>September Song - Guitar Acoustic</td>\n",
       "      <td>2020-08-23 00:11:00</td>\n",
       "      <td>2020</td>\n",
       "      <td>8</td>\n",
       "      <td>23</td>\n",
       "      <td>6</td>\n",
       "      <td>00:11:00</td>\n",
       "      <td>0</td>\n",
       "      <td>Sunday</td>\n",
       "      <td>1</td>\n",
       "      <td>3.52</td>\n",
       "    </tr>\n",
       "    <tr>\n",
       "      <th>3</th>\n",
       "      <td>Ty Dolla $ign</td>\n",
       "      <td>Or Nah (feat. The Weeknd, Wiz Khalifa &amp; DJ Mus...</td>\n",
       "      <td>2020-08-23 02:26:00</td>\n",
       "      <td>2020</td>\n",
       "      <td>8</td>\n",
       "      <td>23</td>\n",
       "      <td>6</td>\n",
       "      <td>02:26:00</td>\n",
       "      <td>2</td>\n",
       "      <td>Sunday</td>\n",
       "      <td>1</td>\n",
       "      <td>1.32</td>\n",
       "    </tr>\n",
       "    <tr>\n",
       "      <th>4</th>\n",
       "      <td>24kGoldn</td>\n",
       "      <td>Mood (feat. iann dior)</td>\n",
       "      <td>2020-08-23 02:28:00</td>\n",
       "      <td>2020</td>\n",
       "      <td>8</td>\n",
       "      <td>23</td>\n",
       "      <td>6</td>\n",
       "      <td>02:28:00</td>\n",
       "      <td>2</td>\n",
       "      <td>Sunday</td>\n",
       "      <td>1</td>\n",
       "      <td>0.02</td>\n",
       "    </tr>\n",
       "    <tr>\n",
       "      <th>5</th>\n",
       "      <td>BTS</td>\n",
       "      <td>Dynamite</td>\n",
       "      <td>2020-08-23 02:28:00</td>\n",
       "      <td>2020</td>\n",
       "      <td>8</td>\n",
       "      <td>23</td>\n",
       "      <td>6</td>\n",
       "      <td>02:28:00</td>\n",
       "      <td>2</td>\n",
       "      <td>Sunday</td>\n",
       "      <td>1</td>\n",
       "      <td>0.00</td>\n",
       "    </tr>\n",
       "    <tr>\n",
       "      <th>6</th>\n",
       "      <td>Miley Cyrus</td>\n",
       "      <td>Midnight Sky</td>\n",
       "      <td>2020-08-23 02:28:00</td>\n",
       "      <td>2020</td>\n",
       "      <td>8</td>\n",
       "      <td>23</td>\n",
       "      <td>6</td>\n",
       "      <td>02:28:00</td>\n",
       "      <td>2</td>\n",
       "      <td>Sunday</td>\n",
       "      <td>1</td>\n",
       "      <td>0.00</td>\n",
       "    </tr>\n",
       "    <tr>\n",
       "      <th>7</th>\n",
       "      <td>blackbear</td>\n",
       "      <td>if i were u (with Lauv)</td>\n",
       "      <td>2020-08-23 02:28:00</td>\n",
       "      <td>2020</td>\n",
       "      <td>8</td>\n",
       "      <td>23</td>\n",
       "      <td>6</td>\n",
       "      <td>02:28:00</td>\n",
       "      <td>2</td>\n",
       "      <td>Sunday</td>\n",
       "      <td>1</td>\n",
       "      <td>1.12</td>\n",
       "    </tr>\n",
       "    <tr>\n",
       "      <th>8</th>\n",
       "      <td>Katy Perry</td>\n",
       "      <td>What Makes A Woman</td>\n",
       "      <td>2020-08-23 02:28:00</td>\n",
       "      <td>2020</td>\n",
       "      <td>8</td>\n",
       "      <td>23</td>\n",
       "      <td>6</td>\n",
       "      <td>02:28:00</td>\n",
       "      <td>2</td>\n",
       "      <td>Sunday</td>\n",
       "      <td>1</td>\n",
       "      <td>0.05</td>\n",
       "    </tr>\n",
       "    <tr>\n",
       "      <th>9</th>\n",
       "      <td>Drake</td>\n",
       "      <td>Toosie Slide</td>\n",
       "      <td>2020-08-23 02:32:00</td>\n",
       "      <td>2020</td>\n",
       "      <td>8</td>\n",
       "      <td>23</td>\n",
       "      <td>6</td>\n",
       "      <td>02:32:00</td>\n",
       "      <td>2</td>\n",
       "      <td>Sunday</td>\n",
       "      <td>1</td>\n",
       "      <td>4.12</td>\n",
       "    </tr>\n",
       "  </tbody>\n",
       "</table>\n",
       "</div>"
      ],
      "text/plain": [
       "      artistName                                          trackName  \\\n",
       "0       James TW                              When You Love Someone   \n",
       "1  Maisie Peters                                 Place We Were Made   \n",
       "2      JP Cooper                   September Song - Guitar Acoustic   \n",
       "3  Ty Dolla $ign  Or Nah (feat. The Weeknd, Wiz Khalifa & DJ Mus...   \n",
       "4       24kGoldn                             Mood (feat. iann dior)   \n",
       "5            BTS                                           Dynamite   \n",
       "6    Miley Cyrus                                       Midnight Sky   \n",
       "7      blackbear                            if i were u (with Lauv)   \n",
       "8     Katy Perry                                 What Makes A Woman   \n",
       "9          Drake                                       Toosie Slide   \n",
       "\n",
       "            Play-Time  Year  Month  Day  Weekday      time  Hours Day-name  \\\n",
       "0 2020-08-23 00:05:00  2020      8   23        6  00:05:00      0   Sunday   \n",
       "1 2020-08-23 00:08:00  2020      8   23        6  00:08:00      0   Sunday   \n",
       "2 2020-08-23 00:11:00  2020      8   23        6  00:11:00      0   Sunday   \n",
       "3 2020-08-23 02:26:00  2020      8   23        6  02:26:00      2   Sunday   \n",
       "4 2020-08-23 02:28:00  2020      8   23        6  02:28:00      2   Sunday   \n",
       "5 2020-08-23 02:28:00  2020      8   23        6  02:28:00      2   Sunday   \n",
       "6 2020-08-23 02:28:00  2020      8   23        6  02:28:00      2   Sunday   \n",
       "7 2020-08-23 02:28:00  2020      8   23        6  02:28:00      2   Sunday   \n",
       "8 2020-08-23 02:28:00  2020      8   23        6  02:28:00      2   Sunday   \n",
       "9 2020-08-23 02:32:00  2020      8   23        6  02:32:00      2   Sunday   \n",
       "\n",
       "   Count  Listening Time in min  \n",
       "0      1                   3.60  \n",
       "1      1                   2.33  \n",
       "2      1                   3.52  \n",
       "3      1                   1.32  \n",
       "4      1                   0.02  \n",
       "5      1                   0.00  \n",
       "6      1                   0.00  \n",
       "7      1                   1.12  \n",
       "8      1                   0.05  \n",
       "9      1                   4.12  "
      ]
     },
     "execution_count": 94,
     "metadata": {},
     "output_type": "execute_result"
    }
   ],
   "source": [
    "#See the update\n",
    "df.head(10)"
   ]
  },
  {
   "cell_type": "markdown",
   "id": "fe9e34e0",
   "metadata": {},
   "source": [
    "This is the most updated datasets that we will be using in our next part, **Data Analysis and Visualization**."
   ]
  },
  {
   "cell_type": "markdown",
   "id": "795631b5",
   "metadata": {},
   "source": [
    "## 3. Data Analysis and Visualization"
   ]
  },
  {
   "cell_type": "markdown",
   "id": "0fa0f237",
   "metadata": {},
   "source": [
    "### 3.1 Exploration in the uniqueness of the artist and song\n",
    "#### 3.1.1 The uniqueness of artist\n",
    "Here, we are trying to explore the uniqueness of the artist and we will made a pie-chart to see the comparison between the unique artists vs the non-unique artists."
   ]
  },
  {
   "cell_type": "code",
   "execution_count": 95,
   "id": "4fbeaf71",
   "metadata": {},
   "outputs": [
    {
     "data": {
      "text/plain": [
       "966"
      ]
     },
     "execution_count": 95,
     "metadata": {},
     "output_type": "execute_result"
    }
   ],
   "source": [
    "#See the comparison between Unique artists and non-unique artists\n",
    "unique_artists = df[\"artistName\"].nunique() # Count number of unique artist \n",
    "total_artists = df[\"artistName\"].count() # Count total number of artist \n",
    "non_unique_artists = total_artists - unique_artists\n",
    "unique_artists"
   ]
  },
  {
   "cell_type": "code",
   "execution_count": 96,
   "id": "26db6d73",
   "metadata": {},
   "outputs": [
    {
     "data": {
      "text/plain": [
       "8502"
      ]
     },
     "execution_count": 96,
     "metadata": {},
     "output_type": "execute_result"
    }
   ],
   "source": [
    "non_unique_artists"
   ]
  },
  {
   "cell_type": "code",
   "execution_count": 97,
   "id": "b9c41333",
   "metadata": {
    "scrolled": true
   },
   "outputs": [
    {
     "data": {
      "image/png": "[encoded data removed]",
      "text/plain": [
       "<Figure size 864x432 with 1 Axes>"
      ]
     },
     "metadata": {},
     "output_type": "display_data"
    }
   ],
   "source": [
    "#Using a pie chart to show the comparison\n",
    "unique_artist_list = np.array([unique_artists, non_unique_artists]) \n",
    "unique_artist_list_labels = [\" Unique Artists\", \"Non-Unique Artists\"] \n",
    "\n",
    "fig, ax = plt.subplots(figsize=(12,6))\n",
    "colors = ['#add8e6', '#4169e1']\n",
    "explode = [0,0.1]\n",
    "ax.pie(unique_artist_list, labels= unique_artist_list_labels, autopct='%1.1f%%' ,startangle=180, shadow = True, colors = colors, explode = explode);\n",
    "plt.title(\"Unique vs Non-unique artists\")\n",
    "plt.show()"
   ]
  },
  {
   "cell_type": "markdown",
   "id": "59e09666",
   "metadata": {},
   "source": [
    "We use **matplotlib** to make the pie chart. The results of the pie chart can be interpreted as:\n",
    "- The unique artist percentage is around 10.2% (966 unique artists)\n",
    "- The non-unique artist percentage is around 89.8% (8502 non-unique artists)"
   ]
  },
  {
   "cell_type": "markdown",
   "id": "4418c7ba",
   "metadata": {},
   "source": [
    "#### 3.1.2 The uniqueness of song\n",
    "Here, we are trying to explore the uniqueness of the song and we will made a pie-chart to see the comparison between the unique songs vs the non-unique songs."
   ]
  },
  {
   "cell_type": "code",
   "execution_count": 98,
   "id": "bc2d85a0",
   "metadata": {},
   "outputs": [
    {
     "data": {
      "text/plain": [
       "2451"
      ]
     },
     "execution_count": 98,
     "metadata": {},
     "output_type": "execute_result"
    }
   ],
   "source": [
    "#See the comparison between Unique songs and non-unique songs\n",
    "unique_songs = df[\"trackName\"].nunique() # Count number of unique artist \n",
    "total_songs = df[\"trackName\"].count() # Count total number of artist \n",
    "non_unique_songs = total_songs - unique_songs\n",
    "unique_songs"
   ]
  },
  {
   "cell_type": "code",
   "execution_count": 99,
   "id": "53482fcd",
   "metadata": {},
   "outputs": [
    {
     "data": {
      "text/plain": [
       "7017"
      ]
     },
     "execution_count": 99,
     "metadata": {},
     "output_type": "execute_result"
    }
   ],
   "source": [
    "non_unique_songs"
   ]
  },
  {
   "cell_type": "code",
   "execution_count": 100,
   "id": "9e9c3386",
   "metadata": {
    "scrolled": true
   },
   "outputs": [
    {
     "data": {
      "image/png": "[encoded data removed]",
      "text/plain": [
       "<Figure size 864x432 with 1 Axes>"
      ]
     },
     "metadata": {},
     "output_type": "display_data"
    }
   ],
   "source": [
    "#Using a pie chart to show the comparison\n",
    "unique_song_list = np.array([unique_songs, non_unique_songs]) \n",
    "unique_song_list_labels = [\" Unique Songs\", \"Non-Unique Songs\"] \n",
    "\n",
    "fig, ax = plt.subplots(figsize=(12,6))\n",
    "colors = ['#add8e6', '#4169e1']\n",
    "explode = [0,0.1]\n",
    "ax.pie(unique_song_list, labels= unique_song_list_labels, autopct='%1.1f%%' ,startangle=180, shadow = True, colors = colors, explode = explode);\n",
    "plt.title(\"Unique vs Non-unique songs\")\n",
    "plt.show()"
   ]
  },
  {
   "cell_type": "markdown",
   "id": "9580a4d5",
   "metadata": {},
   "source": [
    "We also use **matplotlib** to make the second pie chart. The results of the pie chart can be interpreted as:\n",
    "- The unique song percentage is around 25.9% (2451 unique songs)\n",
    "- The non-unique song percentage is around 74.1% (7017 non-unique songs)"
   ]
  },
  {
   "cell_type": "markdown",
   "id": "4452ca6a",
   "metadata": {},
   "source": [
    "### 3.2 Exploration of my top-10 artists"
   ]
  },
  {
   "cell_type": "markdown",
   "id": "8829c8c8",
   "metadata": {},
   "source": [
    "In this part, I am trying to see the top-10 artist grouped by `Listening Time in min` column and sorted by the largest amount of minutes to the lowest."
   ]
  },
  {
   "cell_type": "code",
   "execution_count": 101,
   "id": "8bda385a",
   "metadata": {},
   "outputs": [
    {
     "data": {
      "text/html": [
       "<div>\n",
       "<style scoped>\n",
       "    .dataframe tbody tr th:only-of-type {\n",
       "        vertical-align: middle;\n",
       "    }\n",
       "\n",
       "    .dataframe tbody tr th {\n",
       "        vertical-align: top;\n",
       "    }\n",
       "\n",
       "    .dataframe thead th {\n",
       "        text-align: right;\n",
       "    }\n",
       "</style>\n",
       "<table border=\"1\" class=\"dataframe\">\n",
       "  <thead>\n",
       "    <tr style=\"text-align: right;\">\n",
       "      <th></th>\n",
       "      <th>Listening Time in min</th>\n",
       "      <th>Count</th>\n",
       "    </tr>\n",
       "    <tr>\n",
       "      <th>artistName</th>\n",
       "      <th></th>\n",
       "      <th></th>\n",
       "    </tr>\n",
       "  </thead>\n",
       "  <tbody>\n",
       "    <tr>\n",
       "      <th>Drake</th>\n",
       "      <td>1582.61</td>\n",
       "      <td>610</td>\n",
       "    </tr>\n",
       "    <tr>\n",
       "      <th>Justin Bieber</th>\n",
       "      <td>1142.58</td>\n",
       "      <td>557</td>\n",
       "    </tr>\n",
       "    <tr>\n",
       "      <th>Chris Brown</th>\n",
       "      <td>537.77</td>\n",
       "      <td>237</td>\n",
       "    </tr>\n",
       "    <tr>\n",
       "      <th>Post Malone</th>\n",
       "      <td>396.52</td>\n",
       "      <td>171</td>\n",
       "    </tr>\n",
       "    <tr>\n",
       "      <th>ZAYN</th>\n",
       "      <td>390.06</td>\n",
       "      <td>176</td>\n",
       "    </tr>\n",
       "    <tr>\n",
       "      <th>Pamungkas</th>\n",
       "      <td>361.70</td>\n",
       "      <td>126</td>\n",
       "    </tr>\n",
       "    <tr>\n",
       "      <th>Nick Jonas</th>\n",
       "      <td>347.32</td>\n",
       "      <td>149</td>\n",
       "    </tr>\n",
       "    <tr>\n",
       "      <th>Lauv</th>\n",
       "      <td>337.88</td>\n",
       "      <td>167</td>\n",
       "    </tr>\n",
       "    <tr>\n",
       "      <th>Ari Lasso</th>\n",
       "      <td>329.49</td>\n",
       "      <td>98</td>\n",
       "    </tr>\n",
       "    <tr>\n",
       "      <th>Bruno Mars</th>\n",
       "      <td>282.00</td>\n",
       "      <td>130</td>\n",
       "    </tr>\n",
       "  </tbody>\n",
       "</table>\n",
       "</div>"
      ],
      "text/plain": [
       "               Listening Time in min  Count\n",
       "artistName                                 \n",
       "Drake                        1582.61    610\n",
       "Justin Bieber                1142.58    557\n",
       "Chris Brown                   537.77    237\n",
       "Post Malone                   396.52    171\n",
       "ZAYN                          390.06    176\n",
       "Pamungkas                     361.70    126\n",
       "Nick Jonas                    347.32    149\n",
       "Lauv                          337.88    167\n",
       "Ari Lasso                     329.49     98\n",
       "Bruno Mars                    282.00    130"
      ]
     },
     "execution_count": 101,
     "metadata": {},
     "output_type": "execute_result"
    }
   ],
   "source": [
    "#Check to see my top 10 artist\n",
    "top_10_artist_time_df = df.groupby([\"artistName\"])[[\"Listening Time in min\",\"Count\"]].sum().sort_values(by=\"Listening Time in min\",ascending=False)\n",
    "top_10_artist_time_df.head(10)"
   ]
  },
  {
   "cell_type": "code",
   "execution_count": 102,
   "id": "cc4a42c3",
   "metadata": {},
   "outputs": [
    {
     "data": {
      "image/png": "[encoded data removed]",
      "text/plain": [
       "<Figure size 864x576 with 1 Axes>"
      ]
     },
     "metadata": {
      "needs_background": "light"
     },
     "output_type": "display_data"
    }
   ],
   "source": [
    "#Made a bargraph of my top 10 artists\n",
    "fig,ax = plt.subplots(figsize=(12,8))\n",
    "ax.bar(top_10_artist_time_df.head(10).index,top_10_artist_time_df[\"Listening Time in min\"].head(10),color='grey')\n",
    "ax.set(title= \"Top 10 Artist\",xlabel=\"Artists\",ylabel= \"Total Mins\");\n",
    "plt.xticks(rotation=75);"
   ]
  },
  {
   "cell_type": "markdown",
   "id": "da8f8b09",
   "metadata": {},
   "source": [
    "We used a bar-graph for our visualization to show the top-10 artist categorized by the total amount of listening time. From the graph, we can see that I listened the most to **Drake**, **Justin Bieber** in the second position, and **Chris Brown** in the third position. "
   ]
  },
  {
   "cell_type": "markdown",
   "id": "30d62590",
   "metadata": {},
   "source": [
    "### 3.3 Exploration of my top-10 songs"
   ]
  },
  {
   "cell_type": "markdown",
   "id": "2326ff56",
   "metadata": {},
   "source": [
    "In this part,  I am trying to see the top-10 songs grouped by `Listening Time in min` column and sorted by the largest amount of minutes to the lowest."
   ]
  },
  {
   "cell_type": "code",
   "execution_count": 103,
   "id": "61f8af61",
   "metadata": {},
   "outputs": [
    {
     "data": {
      "text/html": [
       "<div>\n",
       "<style scoped>\n",
       "    .dataframe tbody tr th:only-of-type {\n",
       "        vertical-align: middle;\n",
       "    }\n",
       "\n",
       "    .dataframe tbody tr th {\n",
       "        vertical-align: top;\n",
       "    }\n",
       "\n",
       "    .dataframe thead th {\n",
       "        text-align: right;\n",
       "    }\n",
       "</style>\n",
       "<table border=\"1\" class=\"dataframe\">\n",
       "  <thead>\n",
       "    <tr style=\"text-align: right;\">\n",
       "      <th></th>\n",
       "      <th>Listening Time in min</th>\n",
       "      <th>Count</th>\n",
       "    </tr>\n",
       "    <tr>\n",
       "      <th>trackName</th>\n",
       "      <th></th>\n",
       "      <th></th>\n",
       "    </tr>\n",
       "  </thead>\n",
       "  <tbody>\n",
       "    <tr>\n",
       "      <th>Go Crazy</th>\n",
       "      <td>259.60</td>\n",
       "      <td>128</td>\n",
       "    </tr>\n",
       "    <tr>\n",
       "      <th>Holy (feat. Chance The Rapper)</th>\n",
       "      <td>206.14</td>\n",
       "      <td>78</td>\n",
       "    </tr>\n",
       "    <tr>\n",
       "      <th>To the Bone</th>\n",
       "      <td>199.49</td>\n",
       "      <td>60</td>\n",
       "    </tr>\n",
       "    <tr>\n",
       "      <th>No Guidance (feat. Drake)</th>\n",
       "      <td>197.44</td>\n",
       "      <td>75</td>\n",
       "    </tr>\n",
       "    <tr>\n",
       "      <th>Laugh Now Cry Later (feat. Lil Durk)</th>\n",
       "      <td>189.53</td>\n",
       "      <td>71</td>\n",
       "    </tr>\n",
       "    <tr>\n",
       "      <th>I Fall Apart</th>\n",
       "      <td>137.43</td>\n",
       "      <td>51</td>\n",
       "    </tr>\n",
       "    <tr>\n",
       "      <th>Still Falling For You - From \"Bridget Jones's Baby\"</th>\n",
       "      <td>135.79</td>\n",
       "      <td>40</td>\n",
       "    </tr>\n",
       "    <tr>\n",
       "      <th>Wants and Needs (feat. Lil Baby)</th>\n",
       "      <td>118.92</td>\n",
       "      <td>46</td>\n",
       "    </tr>\n",
       "    <tr>\n",
       "      <th>Really Love (feat. Craig David &amp; Digital Farm Animals)</th>\n",
       "      <td>113.31</td>\n",
       "      <td>49</td>\n",
       "    </tr>\n",
       "    <tr>\n",
       "      <th>Oceans (Where Feet May Fail)</th>\n",
       "      <td>112.35</td>\n",
       "      <td>28</td>\n",
       "    </tr>\n",
       "  </tbody>\n",
       "</table>\n",
       "</div>"
      ],
      "text/plain": [
       "                                                    Listening Time in min  \\\n",
       "trackName                                                                   \n",
       "Go Crazy                                                           259.60   \n",
       "Holy (feat. Chance The Rapper)                                     206.14   \n",
       "To the Bone                                                        199.49   \n",
       "No Guidance (feat. Drake)                                          197.44   \n",
       "Laugh Now Cry Later (feat. Lil Durk)                               189.53   \n",
       "I Fall Apart                                                       137.43   \n",
       "Still Falling For You - From \"Bridget Jones's B...                 135.79   \n",
       "Wants and Needs (feat. Lil Baby)                                   118.92   \n",
       "Really Love (feat. Craig David & Digital Farm A...                 113.31   \n",
       "Oceans (Where Feet May Fail)                                       112.35   \n",
       "\n",
       "                                                    Count  \n",
       "trackName                                                  \n",
       "Go Crazy                                              128  \n",
       "Holy (feat. Chance The Rapper)                         78  \n",
       "To the Bone                                            60  \n",
       "No Guidance (feat. Drake)                              75  \n",
       "Laugh Now Cry Later (feat. Lil Durk)                   71  \n",
       "I Fall Apart                                           51  \n",
       "Still Falling For You - From \"Bridget Jones's B...     40  \n",
       "Wants and Needs (feat. Lil Baby)                       46  \n",
       "Really Love (feat. Craig David & Digital Farm A...     49  \n",
       "Oceans (Where Feet May Fail)                           28  "
      ]
     },
     "execution_count": 103,
     "metadata": {},
     "output_type": "execute_result"
    }
   ],
   "source": [
    "#Check my top 10 songs\n",
    "top_10_songs_df = df.groupby([\"trackName\"])[[\"Listening Time in min\",\"Count\"]].sum().sort_values(by=\"Listening Time in min\",ascending=False)\n",
    "top_10_songs_df.head(10)"
   ]
  },
  {
   "cell_type": "code",
   "execution_count": 104,
   "id": "094d03e6",
   "metadata": {},
   "outputs": [
    {
     "data": {
      "image/png": "[encoded data removed]",
      "text/plain": [
       "<Figure size 864x576 with 1 Axes>"
      ]
     },
     "metadata": {
      "needs_background": "light"
     },
     "output_type": "display_data"
    }
   ],
   "source": [
    "#Made a bargraph of my top 10 songs\n",
    "fig,ax = plt.subplots(figsize=(12,8))\n",
    "ax.bar(top_10_songs_df.head(10).index,top_10_songs_df[\"Listening Time in min\"].head(10),color='green')\n",
    "ax.set(title= \"Top 10 Songs\",xlabel=\"Song\",ylabel= \"Total Mins\");\n",
    "plt.xticks(rotation=90);"
   ]
  },
  {
   "cell_type": "markdown",
   "id": "994c1680",
   "metadata": {},
   "source": [
    "Similar to the previous part, we used a bar-graph for our visualization to show the top-10 songs categorized by the total amount of listening time. From the graph, we can see that I listened the most to & **Go Crazy** by Chris Brown, **Holy (feat. Chance The Rapper)** by Justin Bieber in the second position, and **To The Bone ** by Pamungkas in the third position."
   ]
  },
  {
   "cell_type": "markdown",
   "id": "f47f96a8",
   "metadata": {},
   "source": [
    "### 3.4 Exploration of Spotify's usage in a week"
   ]
  },
  {
   "cell_type": "markdown",
   "id": "34ade146",
   "metadata": {},
   "source": [
    "In this next part, I am trying to explore my usage in Spotify (using a percentage) over a span time of a week."
   ]
  },
  {
   "cell_type": "code",
   "execution_count": 105,
   "id": "a6cb8aac",
   "metadata": {},
   "outputs": [
    {
     "data": {
      "image/png": "[encoded data removed]",
      "text/plain": [
       "<Figure size 1008x504 with 1 Axes>"
      ]
     },
     "metadata": {},
     "output_type": "display_data"
    }
   ],
   "source": [
    "fig, ax = plt.subplots(figsize=(14, 7))\n",
    "ax.pie(df[\"Day-name\"].value_counts(), labels = df[\"Day-name\"].value_counts().index, autopct='%1.1f%%', startangle=180, shadow = True);\n",
    "ax.set(title=\"The Usage of My Spotify Streaming in a week\");"
   ]
  },
  {
   "cell_type": "markdown",
   "id": "c5a52d1a",
   "metadata": {},
   "source": [
    "From the piechart, we can see that I spend the most amount of time in Spotify on Monday, which is around 15.9% and the least amount of time on Saturday, which is around 12.0%."
   ]
  },
  {
   "cell_type": "markdown",
   "id": "2b416543",
   "metadata": {},
   "source": [
    "### 3.5 Exploration of Average Streaming Distribution in a day"
   ]
  },
  {
   "cell_type": "markdown",
   "id": "44e681b7",
   "metadata": {},
   "source": [
    "In this part, I am trying to explore my average of spotify usage in a day. Our goal in this part is to see at what time I spend the most amount of time using Spotify."
   ]
  },
  {
   "cell_type": "code",
   "execution_count": 106,
   "id": "f9f66e7d",
   "metadata": {},
   "outputs": [
    {
     "data": {
      "image/png": "[encoded data removed]",
      "text/plain": [
       "<Figure size 864x504 with 1 Axes>"
      ]
     },
     "metadata": {
      "needs_background": "light"
     },
     "output_type": "display_data"
    }
   ],
   "source": [
    "fig, ax = plt.subplots(figsize=(12,7))\n",
    "ax.set(title=\"My Average Streaming Distribution in a day\",xlabel= \"Total Hours\", ylabel=\"Songs Played\")\n",
    "sns.histplot(df[\"Hours\"], bins=24,kde=True, color=\"firebrick\");"
   ]
  },
  {
   "cell_type": "markdown",
   "id": "50c01927",
   "metadata": {},
   "source": [
    "Using a histogram from `Seaborn` package, we managed to make a histogram graph of my average streaming distribution in a day. The graph can be interpreted as:\n",
    "- The most time I used spotify is `1-3 am`.\n",
    "- The least time I used spotify is `11-12 pm`."
   ]
  },
  {
   "cell_type": "markdown",
   "id": "ebf296c8",
   "metadata": {},
   "source": [
    "### 3.6 Exploration of Average Spotify Usage over the years"
   ]
  },
  {
   "cell_type": "markdown",
   "id": "20ad243b",
   "metadata": {},
   "source": [
    "In this next part, I am tring to explore the average amount of songs that I heard in a year. "
   ]
  },
  {
   "cell_type": "code",
   "execution_count": 108,
   "id": "06272d51",
   "metadata": {},
   "outputs": [
    {
     "data": {
      "image/png": "[encoded data removed]",
      "text/plain": [
       "<Figure size 864x432 with 1 Axes>"
      ]
     },
     "metadata": {
      "needs_background": "light"
     },
     "output_type": "display_data"
    }
   ],
   "source": [
    "fig, ax = plt.subplots(figsize=(12,6))\n",
    "ax = sns.countplot(y=df[\"Month\"], palette = 'bone')\n",
    "ax.set(title=\"My Average Spotify Usage over the years\", xlabel=\"Total Amount of Songs\", ylabel=\"Months\");"
   ]
  },
  {
   "cell_type": "markdown",
   "id": "c94e533b",
   "metadata": {},
   "source": [
    "Using a countplot from **Seaborn** package, we can see that the most usage of my spotify streaming history is on the 8th month or August and the least usage is on 4th month or April."
   ]
  },
  {
   "cell_type": "markdown",
   "id": "f549c1ec",
   "metadata": {},
   "source": [
    "### 3.7 Exploration the total amount of time I spent on Spotify"
   ]
  },
  {
   "cell_type": "code",
   "execution_count": 109,
   "id": "740a0d16",
   "metadata": {},
   "outputs": [
    {
     "data": {
      "text/plain": [
       "20345.489999999998"
      ]
     },
     "execution_count": 109,
     "metadata": {},
     "output_type": "execute_result"
    }
   ],
   "source": [
    "total_min = df[\"Listening Time in min\"].sum() \n",
    "total_min"
   ]
  },
  {
   "cell_type": "code",
   "execution_count": 110,
   "id": "83e96727",
   "metadata": {},
   "outputs": [
    {
     "data": {
      "text/plain": [
       "339.09149999999994"
      ]
     },
     "execution_count": 110,
     "metadata": {},
     "output_type": "execute_result"
    }
   ],
   "source": [
    "total_hours = total_min / 60\n",
    "total_hours"
   ]
  },
  {
   "cell_type": "code",
   "execution_count": 111,
   "id": "7c8e4af7",
   "metadata": {},
   "outputs": [
    {
     "data": {
      "text/plain": [
       "14.128812499999997"
      ]
     },
     "execution_count": 111,
     "metadata": {},
     "output_type": "execute_result"
    }
   ],
   "source": [
    "total_days = total_hours / 24\n",
    "total_days"
   ]
  },
  {
   "cell_type": "markdown",
   "id": "1f588363",
   "metadata": {},
   "source": [
    "Using a simple calculation above, we can see that I spent around 14 days or 339 hours or 20,345 minutes in total on Spotify, which is basically around two weeks in total. "
   ]
  },
  {
   "cell_type": "markdown",
   "id": "154abca8",
   "metadata": {},
   "source": [
    "## 4.0 Conclusion"
   ]
  },
  {
   "cell_type": "markdown",
   "id": "02e8288d",
   "metadata": {},
   "source": [
    "From different parts of this dataset, we acquired a lot of insights of my spotify usage over a span amount of time. The key insights of this data are:\n",
    "- I have played songs from 966 unique artists and 8502 non-unique artists, which comprises of 10.2% and 89.8% respectively.\n",
    "- I have played **2451 unique songs** and **7017 non-unique songs**, which comprises of 25.9% and 74.1% respectively.\n",
    "- My top artist is **Drake** and my top song is **Go Crazy** by Chris Brown.\n",
    "- I spend the most amount of time in Spotify on **Monday**.\n",
    "- The most time I used spotify is **1-3 am** and the least time I used spotify is **11-12 pm**.\n",
    "- I spend the most time in Spotify in August and the least time in May.\n",
    "- I spend a total amount time of 14 days in total on Spotify =."
   ]
  }
 ],
 "metadata": {
  "kernelspec": {
   "display_name": "Python 3",
   "language": "python",
   "name": "python3"
  },
  "language_info": {
   "codemirror_mode": {
    "name": "ipython",
    "version": 3
   },
   "file_extension": ".py",
   "mimetype": "text/x-python",
   "name": "python",
   "nbconvert_exporter": "python",
   "pygments_lexer": "ipython3",
   "version": "3.8.8"
  }
 },
 "nbformat": 4,
 "nbformat_minor": 5
}
